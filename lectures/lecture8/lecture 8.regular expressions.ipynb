{
 "cells": [
  {
   "cell_type": "markdown",
   "metadata": {},
   "source": [
    "### String Matching"
   ]
  },
  {
   "cell_type": "markdown",
   "metadata": {
    "tags": []
   },
   "source": [
    "#### Regular expressions (RegEx)"
   ]
  },
  {
   "cell_type": "markdown",
   "metadata": {
    "id": "h_XQFojFCypX"
   },
   "source": [
    "How to use regular expressions\n",
    "\n",
    "We will focus on:\n",
    "\n",
    "Any letter a-z A-Z and number will match to itself. Many other characters will as well.\n",
    "\n",
    "\\w = match any \"word\" character: a-z A-Z numbers, but will not match a period (.)\n",
    "\n",
    "\\d = match any number digit\n",
    "\n",
    "\\s = match any whitespace (space, tab)\n",
    "\n",
    "\\S = match any non=whitespace (not a space or tab)\n",
    "\n",
    ". = match any character or number or whitespace\n",
    "\n",
    "\n",
    "[ ] = create a set of characters or numbers or symbols to match.  Automatic \"or\"\n",
    "\n",
    "Quantifiers\n",
    "\n",
    "\"+\" = add to any of the above to match 1 or more times\n",
    "\n",
    "\"*\" = add to any of the above to match 0 or more times.\n",
    "\n",
    "{m} = m is a number, add to any of the above to match m times\n",
    "\n",
    "{m,n} = m and n are a numbers, add to any of the above to match at least m times and at most n times\n",
    "\n",
    "\n",
    "\n",
    "^ = start match at the beginnning of the input string\n",
    "\n",
    "$ = end match at the end of the input string\n",
    "\n",
    "? = make the match not greedy\n",
    "\n",
    ". ^ $ * + ? { [ ] \\ | ( )  are all \"special\" characters.  If you want to match to any of them, put a backslash, \\, in front of it.  \\ is an \"escape\" character and using it is called \"escaping\" a character."
   ]
  },
  {
   "cell_type": "markdown",
   "metadata": {},
   "source": [
    "Will start looking at RegEx from the python point of view"
   ]
  },
  {
   "cell_type": "markdown",
   "metadata": {},
   "source": [
    "Start by importing the re package"
   ]
  },
  {
   "cell_type": "code",
   "execution_count": 2,
   "metadata": {
    "id": "G-9rPvkjCypZ",
    "tags": []
   },
   "outputs": [],
   "source": [
    "import re"
   ]
  },
  {
   "cell_type": "markdown",
   "metadata": {
    "id": "oWNHCi1uCypa"
   },
   "source": [
    "Let's start simple, a character matching to itself"
   ]
  },
  {
   "cell_type": "code",
   "execution_count": 2,
   "metadata": {
    "id": "53QoXxLoCypa",
    "outputId": "c6363870-736e-47fb-9372-1dcc5ff6c139"
   },
   "outputs": [
    {
     "data": {
      "text/plain": [
       "['J']"
      ]
     },
     "execution_count": 2,
     "metadata": {},
     "output_type": "execute_result"
    }
   ],
   "source": [
    "line = \"J\"\n",
    "m = re.findall(\"J\", line)\n",
    "m"
   ]
  },
  {
   "cell_type": "markdown",
   "metadata": {
    "id": "2giBE42HCypb"
   },
   "source": [
    "If it is in the input line multiple times, it will be found multiple times.\n",
    "\n",
    "Note that what will be returned is only what is in the regex pattern."
   ]
  },
  {
   "cell_type": "code",
   "execution_count": 4,
   "metadata": {
    "id": "aK5_AFihCypb",
    "outputId": "f3451561-00d2-48c6-f467-8f245cb94399"
   },
   "outputs": [
    {
     "data": {
      "text/plain": [
       "['J ']"
      ]
     },
     "execution_count": 4,
     "metadata": {},
     "output_type": "execute_result"
    }
   ],
   "source": [
    "line = \"JJ J\"\n",
    "m = re.findall(\"J \", line)\n",
    "m"
   ]
  },
  {
   "cell_type": "markdown",
   "metadata": {
    "id": "NPXfPT0ICypb"
   },
   "source": [
    "To find just the first one, we can use ^ to tell it to match starting at the beginning of the line"
   ]
  },
  {
   "cell_type": "code",
   "execution_count": 9,
   "metadata": {
    "id": "exwDBJ1MCypb",
    "outputId": "54f7bce6-0b3f-40ac-9e7b-7b9e49660585"
   },
   "outputs": [
    {
     "data": {
      "text/plain": [
       "['J']"
      ]
     },
     "execution_count": 9,
     "metadata": {},
     "output_type": "execute_result"
    }
   ],
   "source": [
    "line = \"JJ J\"\n",
    "m = re.findall(\"^J\", line)\n",
    "m"
   ]
  },
  {
   "cell_type": "markdown",
   "metadata": {
    "id": "77lqMz0ZCypc"
   },
   "source": [
    "To find the 3rd one, there are 2 options.\n",
    "1) We can tell it to match at the end of the line"
   ]
  },
  {
   "cell_type": "code",
   "execution_count": 11,
   "metadata": {
    "id": "HjndWB8BCypc",
    "outputId": "fdcd6538-37a6-4870-d2ac-c8338b983c9b"
   },
   "outputs": [
    {
     "data": {
      "text/plain": [
       "['J']"
      ]
     },
     "execution_count": 11,
     "metadata": {},
     "output_type": "execute_result"
    }
   ],
   "source": [
    "line = \"JJ J\"\n",
    "m = re.findall(\"J$\", line)\n",
    "m"
   ]
  },
  {
   "cell_type": "markdown",
   "metadata": {
    "id": "xOZy9sf6Cypc"
   },
   "source": [
    "2) we could tell it to match to the 3rd J either by telling it to include the space preceeding it"
   ]
  },
  {
   "cell_type": "code",
   "execution_count": 13,
   "metadata": {
    "id": "NXWURhT6Cypc",
    "outputId": "7fc09520-ecd9-4111-cbcc-7e838838995c"
   },
   "outputs": [
    {
     "data": {
      "text/plain": [
       "[' J']"
      ]
     },
     "execution_count": 13,
     "metadata": {},
     "output_type": "execute_result"
    }
   ],
   "source": [
    "line = \"JJ J\"\n",
    "m = re.findall(\"\\sJ\", line)\n",
    "m"
   ]
  },
  {
   "cell_type": "markdown",
   "metadata": {
    "id": "5M3RrY3YCypd"
   },
   "source": [
    "But note that the space is included in what is returned.  Do we want that?\n",
    "\n",
    "To tell it to match to the 2nd one, we can include the space in the match"
   ]
  },
  {
   "cell_type": "code",
   "execution_count": 14,
   "metadata": {
    "id": "MfDZZb5eCypd",
    "outputId": "0bd17f28-e4d4-4295-b7ed-4114f85f6b78"
   },
   "outputs": [
    {
     "data": {
      "text/plain": [
       "['J']"
      ]
     },
     "execution_count": 14,
     "metadata": {},
     "output_type": "execute_result"
    }
   ],
   "source": [
    "line = \"JJ J\"\n",
    "m = re.findall(\"J\\s\", line)\n",
    "m"
   ]
  },
  {
   "cell_type": "markdown",
   "metadata": {
    "id": "fg2I3-4ICypd"
   },
   "source": [
    "Note that the space is included in what is returned.  Do we want that?\n",
    "\n",
    "Everything that is inside of the quotes will be returned in the match.  Unless, we specify what we want returned, this will come later.\n",
    "\n",
    "What if we want matches of different lengths?\n",
    "\n",
    "Here, we will compare Jon to Jonathan.  We will start by just matching Jon."
   ]
  },
  {
   "cell_type": "code",
   "execution_count": null,
   "metadata": {
    "id": "GjUb1Hg6Cypd",
    "outputId": "31f3daf2-318a-4395-fdf2-bc52a332c182"
   },
   "outputs": [
    {
     "data": {
      "text/plain": [
       "['Jon', 'Jon']"
      ]
     },
     "execution_count": 122,
     "metadata": {},
     "output_type": "execute_result"
    }
   ],
   "source": [
    "mylist  = [\"Jon\", \"Jonathan\"]\n",
    "outlist = []\n",
    "for this in mylist:\n",
    "    m = re.findall(\"Jon\", this)\n",
    "    outlist += m\n",
    "outlist"
   ]
  },
  {
   "cell_type": "markdown",
   "metadata": {
    "id": "wPVlt0mzCypd"
   },
   "source": [
    "Notice that when it matches to the Jon in Jonathan, it only returns the Jon part.  What is returned is only the portion that is in the regex pattern. \n",
    "\n",
    "What if they were in the same line?"
   ]
  },
  {
   "cell_type": "code",
   "execution_count": null,
   "metadata": {
    "id": "mUO1dKkdCype",
    "outputId": "bb2e340e-221c-4558-ca41-039175280f9c"
   },
   "outputs": [
    {
     "data": {
      "text/plain": [
       "['Jon', 'Jon']"
      ]
     },
     "execution_count": 129,
     "metadata": {},
     "output_type": "execute_result"
    }
   ],
   "source": [
    "mylist  = [\"Jon Jonathan\"]\n",
    "outlist = []\n",
    "for this in mylist:\n",
    "    m = re.findall(\"Jon\", this)\n",
    "    outlist += m\n",
    "outlist"
   ]
  },
  {
   "cell_type": "markdown",
   "metadata": {
    "id": "uZ9MkC_oCype"
   },
   "source": [
    "Just like in the earlier example with the J's, you will get back all of the matches to the regex pattern in the string.\n",
    "\n",
    "If we want both Jon and Jonathan, we need to adjust the pattern. To do this, we'll bring \\w into play and add the * to it to indicate that we want 0 or more word characters after Jon."
   ]
  },
  {
   "cell_type": "code",
   "execution_count": null,
   "metadata": {
    "id": "yGqvsLsjCype",
    "outputId": "6835f5bb-6403-4b84-81e7-10cdd769ec3b"
   },
   "outputs": [
    {
     "data": {
      "text/plain": [
       "['Jon', 'Jonathan']"
      ]
     },
     "execution_count": 90,
     "metadata": {},
     "output_type": "execute_result"
    }
   ],
   "source": [
    "mylist  = [\"Jon\", \"Jonathan\"]\n",
    "outlist = []\n",
    "for this in mylist:\n",
    "    m = re.findall(\"Jon\\w*\", this)\n",
    "    outlist += m\n",
    "outlist"
   ]
  },
  {
   "cell_type": "markdown",
   "metadata": {
    "id": "kdakh6xMCype"
   },
   "source": [
    "Now we're getting both Jon and Jonathan.\n",
    "\n",
    "It is important to note that it is not restricted to just Jon and Jonathan, if we had another word that had Jon in it, that would be returned too.  We'll also add in a word with some non-word characters in it."
   ]
  },
  {
   "cell_type": "code",
   "execution_count": null,
   "metadata": {
    "id": "BqCPtebYCypf",
    "outputId": "71f7e080-2c57-4bce-fb17-80c2d46b92af"
   },
   "outputs": [
    {
     "data": {
      "text/plain": [
       "['Jon', 'Jonathan', 'Jona', 'Jon123', 'Jonny', 'JonJo', 'Jon']"
      ]
     },
     "execution_count": 127,
     "metadata": {},
     "output_type": "execute_result"
    }
   ],
   "source": [
    "mylist  = [\"Jon\", \"Jonathan\", \"Jona\", \"Jon123\", \"Jonny\", \"JonJo\", \"Jon%$\"]\n",
    "outlist = []\n",
    "for this in mylist:\n",
    "    m = re.findall(\"Jon\\w*\", this)\n",
    "    outlist += m\n",
    "outlist"
   ]
  },
  {
   "cell_type": "markdown",
   "metadata": {
    "id": "3sdWJEUECypf"
   },
   "source": [
    "I could use a couple of other matching options.\n",
    "\n",
    "First we'll try \\S which matches to any non-whitespace."
   ]
  },
  {
   "cell_type": "code",
   "execution_count": null,
   "metadata": {
    "id": "tKBr1X1cCypf",
    "outputId": "8dd29694-0589-42bb-d7af-d828193c64f4"
   },
   "outputs": [
    {
     "data": {
      "text/plain": [
       "['Jon', 'Jonathan', 'Jona', 'Jon123', 'Jonny', 'JonJo', 'Jon%$']"
      ]
     },
     "execution_count": 126,
     "metadata": {},
     "output_type": "execute_result"
    }
   ],
   "source": [
    "mylist  = [\"Jon\", \"Jonathan\", \"Jona\", \"Jon123\", \"Jonny\", \"JonJo\", \"Jon%$\"]\n",
    "outlist = []\n",
    "for this in mylist:\n",
    "    m = re.findall(\"Jon\\S*\", this)\n",
    "    outlist += m\n",
    "outlist"
   ]
  },
  {
   "cell_type": "markdown",
   "metadata": {
    "id": "f0dJU2BYCypf"
   },
   "source": [
    "Now we're also picking up the work with the non-word characters in it.\n",
    "\n",
    "I could also use . which matches to any character"
   ]
  },
  {
   "cell_type": "code",
   "execution_count": 16,
   "metadata": {
    "id": "7OPCva5NCypg",
    "outputId": "fc161e96-566a-43a0-9b94-00ac856654e5"
   },
   "outputs": [
    {
     "data": {
      "text/plain": [
       "['Jon', 'Jonathan', 'Jona', 'Jon123', 'Jonny', 'JonJo', 'Jon%$']"
      ]
     },
     "execution_count": 16,
     "metadata": {},
     "output_type": "execute_result"
    }
   ],
   "source": [
    "mylist  = [\"Jon\", \"Jonathan\", \"Jona\", \"Jon123\", \"Jonny\", \"JonJo\", \"Jon%$\"]\n",
    "outlist = []\n",
    "for this in mylist:\n",
    "    m = re.findall(\"Jon.*\", this)\n",
    "    outlist += m\n",
    "outlist"
   ]
  },
  {
   "cell_type": "markdown",
   "metadata": {
    "id": "LBSgT4Q7Cypg"
   },
   "source": [
    "Let's extend this example by adding middle and last names. What happens?\n",
    "\n",
    "Starting using the \\w*"
   ]
  },
  {
   "cell_type": "code",
   "execution_count": null,
   "metadata": {
    "id": "k5ydtRiXCypg",
    "outputId": "d7784fa4-4c63-46f0-e78f-be68ce2c6921"
   },
   "outputs": [
    {
     "data": {
      "text/plain": [
       "['Jon', 'Jonathan']"
      ]
     },
     "execution_count": 93,
     "metadata": {},
     "output_type": "execute_result"
    }
   ],
   "source": [
    "mylist  = [\"Jon Adam Smith\", \"Jonathan Adam Smith\"]\n",
    "outlist = []\n",
    "for this in mylist:\n",
    "    m = re.findall(\"Jon\\w*\", this)\n",
    "    outlist += m\n",
    "outlist"
   ]
  },
  {
   "cell_type": "markdown",
   "metadata": {
    "id": "QwxLXhwfCypg"
   },
   "source": [
    "Notice that with the \\w, the matching stops at the space\n",
    "\n",
    "What about with \\S"
   ]
  },
  {
   "cell_type": "code",
   "execution_count": null,
   "metadata": {
    "id": "XACJsRGZCypg",
    "outputId": "d988b655-e0ba-4da6-b034-b8fae8d9c77f"
   },
   "outputs": [
    {
     "data": {
      "text/plain": [
       "['Jon', 'Jonathan']"
      ]
     },
     "execution_count": 94,
     "metadata": {},
     "output_type": "execute_result"
    }
   ],
   "source": [
    "mylist  = [\"Jon Adam Smith\", \"Jonathan Adam Smith\"]\n",
    "outlist = []\n",
    "for this in mylist:\n",
    "    m = re.findall(\"Jon\\S*\", this)\n",
    "    outlist += m\n",
    "outlist"
   ]
  },
  {
   "cell_type": "markdown",
   "metadata": {
    "id": "2EX6UQWPCypg"
   },
   "source": [
    "The same thing happens: the matching stops at the space.\n",
    "\n",
    "What about with ."
   ]
  },
  {
   "cell_type": "code",
   "execution_count": null,
   "metadata": {
    "id": "p7-ev4dpCyph",
    "outputId": "e480dcc0-46ae-4274-ddb0-3fad2dcf3ec6"
   },
   "outputs": [
    {
     "data": {
      "text/plain": [
       "['Jon Adam Smith', 'Jonathan Adam Smith']"
      ]
     },
     "execution_count": 95,
     "metadata": {},
     "output_type": "execute_result"
    }
   ],
   "source": [
    "mylist  = [\"Jon Adam Smith\", \"Jonathan Adam Smith\"]\n",
    "outlist = []\n",
    "for this in mylist:\n",
    "    m = re.findall(\"Jon.*\", this)\n",
    "    outlist += m\n",
    "outlist"
   ]
  },
  {
   "cell_type": "markdown",
   "metadata": {
    "id": "SYtCp3XiCyph"
   },
   "source": [
    "Hmmmm.... it matched the entire name.  Why? Because . matches any character including the spaces.  By default, matching is \"greedy\": it wants to match as much as possible.  Matching starts with the left-most characters in the pattern and works its way to the right.\n",
    "\n",
    "We can make it not be greedy by including a ? in the pattern."
   ]
  },
  {
   "cell_type": "code",
   "execution_count": 17,
   "metadata": {
    "id": "Op3mZYAYCyph",
    "outputId": "21666bc7-49e2-4c5c-8c29-965278874fdc"
   },
   "outputs": [
    {
     "data": {
      "text/plain": [
       "['Jon', 'Jon']"
      ]
     },
     "execution_count": 17,
     "metadata": {},
     "output_type": "execute_result"
    }
   ],
   "source": [
    "mylist  = [\"Jon Adam Smith\", \"Jonathan Adam Smith\"]\n",
    "outlist = []\n",
    "for this in mylist:\n",
    "    m = re.findall(\"Jon.*?\", this)\n",
    "    outlist += m\n",
    "outlist"
   ]
  },
  {
   "cell_type": "markdown",
   "metadata": {
    "id": "hYQzlubwCyph"
   },
   "source": [
    "Notice that this isn't quite what we want either because now it stopped as soon as it could.\n",
    "\n",
    "Bottom line: using . in matching can be very useful, but it can also be problematic."
   ]
  },
  {
   "cell_type": "markdown",
   "metadata": {
    "id": "ZXIZUC2PCyph"
   },
   "source": [
    "Next problem: allowing for variability at a position in a string.\n",
    "\n",
    "Let's look at matching to Grey and Gray.  This is where the [ ] come in handy.  We can put any characters we want inside the [ ] and the matching will automatically try using them with an \"or\".\n",
    "\n",
    "First, we'll do the matching with \\w"
   ]
  },
  {
   "cell_type": "code",
   "execution_count": null,
   "metadata": {
    "id": "jsqWRNZYCyph",
    "outputId": "d07c488d-4005-4d71-83f6-e2c5ab0b8036"
   },
   "outputs": [
    {
     "data": {
      "text/plain": [
       "['Grey', 'Gray']"
      ]
     },
     "execution_count": 97,
     "metadata": {},
     "output_type": "execute_result"
    }
   ],
   "source": [
    "mylist  = [\"Grey\", \"Gray\"]\n",
    "outlist = []\n",
    "for this in mylist:\n",
    "    m = re.findall(\"Gr\\wy\", this)\n",
    "    outlist += m\n",
    "outlist"
   ]
  },
  {
   "cell_type": "markdown",
   "metadata": {
    "id": "2cbewdebCypi"
   },
   "source": [
    "And again with \\S"
   ]
  },
  {
   "cell_type": "code",
   "execution_count": null,
   "metadata": {
    "id": "v80HbSuuCypi",
    "outputId": "31cd9bbf-6b63-4851-ba7e-bb548003ae55"
   },
   "outputs": [
    {
     "data": {
      "text/plain": [
       "['Grey', 'Gray']"
      ]
     },
     "execution_count": 98,
     "metadata": {},
     "output_type": "execute_result"
    }
   ],
   "source": [
    "mylist  = [\"Grey\", \"Gray\"]\n",
    "outlist = []\n",
    "for this in mylist:\n",
    "    m = re.findall(\"Gr\\Sy\", this)\n",
    "    outlist += m\n",
    "outlist"
   ]
  },
  {
   "cell_type": "markdown",
   "metadata": {
    "id": "3i94UH0hCypi"
   },
   "source": [
    "Now we'll use the [ ].  Note that I don't have an \"or\" in there."
   ]
  },
  {
   "cell_type": "code",
   "execution_count": null,
   "metadata": {
    "id": "Xan6tvgACypi",
    "outputId": "0a48aa8a-ba3f-4589-fa80-eb3d120f8fa1"
   },
   "outputs": [
    {
     "data": {
      "text/plain": [
       "['Grey', 'Gray']"
      ]
     },
     "execution_count": 99,
     "metadata": {},
     "output_type": "execute_result"
    }
   ],
   "source": [
    "mylist  = [\"Grey\", \"Gray\"]\n",
    "outlist = []\n",
    "for this in mylist:\n",
    "    m = re.findall(\"Gr[ea]y\", this)\n",
    "    outlist += m\n",
    "outlist"
   ]
  },
  {
   "cell_type": "markdown",
   "metadata": {
    "id": "Lu_aeV89Cypi"
   },
   "source": [
    "The [ ] allows us to control which characters can be present at a specific position.  We can also use the + and * on it.\n",
    "\n",
    "For example, let's look at Greey, Graay, and for fun Greay and Graey"
   ]
  },
  {
   "cell_type": "code",
   "execution_count": null,
   "metadata": {
    "id": "fYIA-vHRCypi",
    "outputId": "1ba1514e-d7f9-4e4b-b923-99e66add67ed"
   },
   "outputs": [
    {
     "data": {
      "text/plain": [
       "['Grey', 'Gray', 'Greey', 'Graay', 'Greay', 'Graey']"
      ]
     },
     "execution_count": 100,
     "metadata": {},
     "output_type": "execute_result"
    }
   ],
   "source": [
    "mylist  = [\"Grey\", \"Gray\", \"Greey\", \"Graay\", \"Greay\", \"Graey\"]\n",
    "outlist = []\n",
    "for this in mylist:\n",
    "    m = re.findall(\"Gr[ea]+y\", this)\n",
    "    outlist += m\n",
    "outlist"
   ]
  },
  {
   "cell_type": "markdown",
   "metadata": {
    "id": "dvVtDTKJCypi"
   },
   "source": [
    "It allowed all combinations of the characters inside the [ ].\n",
    "\n",
    "Important note: upper vs lower case matters.  For instance:"
   ]
  },
  {
   "cell_type": "code",
   "execution_count": null,
   "metadata": {
    "id": "WY86KCKBCypj",
    "outputId": "5dd942a8-036a-4f89-c922-d1c28fc8aa08"
   },
   "outputs": [
    {
     "data": {
      "text/plain": [
       "[]"
      ]
     },
     "execution_count": 101,
     "metadata": {},
     "output_type": "execute_result"
    }
   ],
   "source": [
    "mylist  = [\"Grey\", \"Gray\"]\n",
    "outlist = []\n",
    "for this in mylist:\n",
    "    m = re.findall(\"Gr[EA]y\", this)\n",
    "    outlist += m\n",
    "outlist"
   ]
  },
  {
   "cell_type": "markdown",
   "metadata": {
    "id": "GopVwy6UCypj"
   },
   "source": [
    "This found nothing since we put upper case letters in the [ ], and they won't match against the lower case letters.  If case will be issue, then we could do [eaEA]"
   ]
  },
  {
   "cell_type": "code",
   "execution_count": null,
   "metadata": {
    "id": "qR8MH_8RCypj",
    "outputId": "31637baf-ed0b-4d86-ab57-680299ca2aac"
   },
   "outputs": [
    {
     "data": {
      "text/plain": [
       "['Grey', 'Gray']"
      ]
     },
     "execution_count": 102,
     "metadata": {},
     "output_type": "execute_result"
    }
   ],
   "source": [
    "mylist  = [\"Grey\", \"Gray\"]\n",
    "outlist = []\n",
    "for this in mylist:\n",
    "    m = re.findall(\"Gr[eaEA]y\", this)\n",
    "    outlist += m\n",
    "outlist"
   ]
  },
  {
   "cell_type": "markdown",
   "metadata": {
    "id": "qW1fOKFICypj"
   },
   "source": [
    "Here's another example of mixed case.  The input line has mixed case, but we only have lower case in the [ ]"
   ]
  },
  {
   "cell_type": "code",
   "execution_count": null,
   "metadata": {
    "id": "3SCz-uaQCypj",
    "outputId": "f487b458-ee5b-48e3-aa3c-aa0f3cfb51c2"
   },
   "outputs": [
    {
     "data": {
      "text/plain": [
       "['bbbbb']"
      ]
     },
     "execution_count": 103,
     "metadata": {},
     "output_type": "execute_result"
    }
   ],
   "source": [
    "line = \"AAAAAbbbbb\"\n",
    "m = re.findall(\"[a-z]+\", line)\n",
    "m"
   ]
  },
  {
   "cell_type": "markdown",
   "metadata": {
    "id": "f3h1iC8cCypj"
   },
   "source": [
    "Whilst now we include both upper and lower case in the [ ]"
   ]
  },
  {
   "cell_type": "code",
   "execution_count": null,
   "metadata": {
    "id": "H0__coWVCypk",
    "outputId": "e9ab1508-3df2-402f-b094-e3b3647a8bf0"
   },
   "outputs": [
    {
     "data": {
      "text/plain": [
       "['AAAAAbbbbb']"
      ]
     },
     "execution_count": 104,
     "metadata": {},
     "output_type": "execute_result"
    }
   ],
   "source": [
    "line = \"AAAAAbbbbb\"\n",
    "m = re.findall(\"[A-Za-z]+\", line)\n",
    "m"
   ]
  },
  {
   "cell_type": "markdown",
   "metadata": {
    "id": "-6av0cI_Cypk"
   },
   "source": [
    "To drive home the point about matching multiple characters, here's an example of matching multiples of a specific character"
   ]
  },
  {
   "cell_type": "code",
   "execution_count": null,
   "metadata": {
    "id": "GuN05oGHCypk",
    "outputId": "1df3d932-9ae9-4b61-bdd2-df07d42da578"
   },
   "outputs": [
    {
     "data": {
      "text/plain": [
       "['o', 'oo', 'ooo', 'oooo']"
      ]
     },
     "execution_count": 105,
     "metadata": {},
     "output_type": "execute_result"
    }
   ],
   "source": [
    "line = \"Hellolooloooloooo\"\n",
    "m = re.findall(\"o+\", line)\n",
    "m"
   ]
  },
  {
   "cell_type": "markdown",
   "metadata": {
    "id": "Ks7GIUB9Cypk"
   },
   "source": [
    "What if I'm only interested in matching 3 O's? You can inidicate the number of the character using {m} or {m,n}"
   ]
  },
  {
   "cell_type": "code",
   "execution_count": null,
   "metadata": {
    "id": "iAT2L0IBCypk",
    "outputId": "326ddf00-9876-49ab-e441-e3e9b73af382"
   },
   "outputs": [
    {
     "data": {
      "text/plain": [
       "['ooo', 'ooo']"
      ]
     },
     "execution_count": 106,
     "metadata": {},
     "output_type": "execute_result"
    }
   ],
   "source": [
    "line = \"Hellolooloooloooo\"\n",
    "m = re.findall(\"o{3}\", line)\n",
    "m"
   ]
  },
  {
   "cell_type": "markdown",
   "metadata": {
    "id": "_fPJwGMwCypk"
   },
   "source": [
    "Or 3 or 4 O's?"
   ]
  },
  {
   "cell_type": "code",
   "execution_count": null,
   "metadata": {
    "id": "-jbjq7h0Cypk",
    "outputId": "371a716a-c50e-4d65-e036-ddad075fff77"
   },
   "outputs": [
    {
     "data": {
      "text/plain": [
       "['ooo', 'oooo']"
      ]
     },
     "execution_count": 107,
     "metadata": {},
     "output_type": "execute_result"
    }
   ],
   "source": [
    "line = \"Hellolooloooloooo\"\n",
    "m = re.findall(\"o{3,4}\", line)\n",
    "m"
   ]
  },
  {
   "cell_type": "markdown",
   "metadata": {
    "id": "1wLuUcBACypl"
   },
   "source": [
    "Let's go back and talk some more about greedy vs. non-greedy.\n",
    "\n",
    "In this example, we're trying to get the html tags. The first one is the usual greedy match"
   ]
  },
  {
   "cell_type": "code",
   "execution_count": null,
   "metadata": {
    "id": "YPlAwZlXCypl",
    "outputId": "9201caf8-dbd0-4ff6-b1db-ecd35260826a"
   },
   "outputs": [
    {
     "data": {
      "text/plain": [
       "['<b>foo</b> and <i>so on</i>']"
      ]
     },
     "execution_count": 108,
     "metadata": {},
     "output_type": "execute_result"
    }
   ],
   "source": [
    "line = \"<b>foo</b> and <i>so on</i>\"\n",
    "m = re.findall(\"<.*>\", line)\n",
    "m"
   ]
  },
  {
   "cell_type": "markdown",
   "metadata": {
    "id": "bYGKJFd9Cypl"
   },
   "source": [
    "The pattern found the < and then the .* took over in the matching trying to match as many characters as it could.  Because of this, it skipped the first > and continued on to the final >\n",
    "\n",
    "Here's the non-greedy version where we use the ? after the .*"
   ]
  },
  {
   "cell_type": "code",
   "execution_count": null,
   "metadata": {
    "id": "ACSf4To6Cypl",
    "outputId": "c64aaa55-bed4-4434-8b2b-48878d222ee6"
   },
   "outputs": [
    {
     "data": {
      "text/plain": [
       "['<b>', '</b>', '<i>', '</i>']"
      ]
     },
     "execution_count": 109,
     "metadata": {},
     "output_type": "execute_result"
    }
   ],
   "source": [
    "line = \"<b>foo</b> and <i>so on</i>\"\n",
    "m = re.findall(\"<.*?>\", line)\n",
    "m"
   ]
  },
  {
   "cell_type": "markdown",
   "metadata": {
    "id": "eDGHwdB1Cypl"
   },
   "source": [
    "Let's at getting the email address of the sender of an email by parsing the line\n",
    "From: vmartinez@winstead.com\n",
    "\n",
    "Note that @ is a special character, so we'll need to escape it using a backslash \\\n",
    "We will set up a pattern of\n",
    "   \\w+\\@\\w+"
   ]
  },
  {
   "cell_type": "code",
   "execution_count": null,
   "metadata": {
    "id": "1tIQkHXfCypl",
    "outputId": "7e2f6b68-db47-43e1-abfd-5700e4bb8a73"
   },
   "outputs": [
    {
     "data": {
      "text/plain": [
       "['vmartinez@winstead']"
      ]
     },
     "execution_count": 110,
     "metadata": {},
     "output_type": "execute_result"
    }
   ],
   "source": [
    "line = \"From: vmartinez@winstead.com\"\n",
    "m = re.findall(\"\\w+\\@\\w+\", line)\n",
    "m"
   ]
  },
  {
   "cell_type": "markdown",
   "metadata": {
    "id": "97w_UL5SCypl"
   },
   "source": [
    "Notice that the .com is missing.  That is because the period (\".\") is not considered to be a word character.\n",
    "There are a couple of ways to solve this.\n",
    "One is to explicitly put .com"
   ]
  },
  {
   "cell_type": "code",
   "execution_count": 18,
   "metadata": {
    "id": "3lfif_McCypm",
    "outputId": "c838730b-0598-415b-ce2b-09dce94a475b"
   },
   "outputs": [
    {
     "data": {
      "text/plain": [
       "['vmartinez@winstead.com']"
      ]
     },
     "execution_count": 18,
     "metadata": {},
     "output_type": "execute_result"
    }
   ],
   "source": [
    "line = \"From: vmartinez@winstead.com\"\n",
    "m = re.findall(\"\\w+\\@\\w+\\.com\", line)\n",
    "m"
   ]
  },
  {
   "cell_type": "markdown",
   "metadata": {
    "id": "UgsS5IAdCypm"
   },
   "source": [
    "Another is to use the \\S for a non-whitespace character.  We'll start the email domain with a word character, then finish it with the \\S"
   ]
  },
  {
   "cell_type": "code",
   "execution_count": null,
   "metadata": {
    "id": "rzHCY0kLCypm",
    "outputId": "006d95c2-92bd-4e8d-9a1f-e1118e0a37a1"
   },
   "outputs": [
    {
     "data": {
      "text/plain": [
       "['vmartinez@winstead.com']"
      ]
     },
     "execution_count": 112,
     "metadata": {},
     "output_type": "execute_result"
    }
   ],
   "source": [
    "line = \"From: vmartinez@winstead.com\"\n",
    "m = re.findall(\"\\w+\\@\\w\\S+\", line)\n",
    "m"
   ]
  },
  {
   "cell_type": "markdown",
   "metadata": {
    "id": "hoMMVja1Cypm"
   },
   "source": [
    "If the regex pattern is bigger than then part of the text that we're wanting, we can use parentheses to indicate the part(s) we want.  If there are more than one set of (), the parts they match will be in the output in the order they occur in the regex pattern.\n",
    "\n",
    "Here, we include From: in the pattern, but we only want the email address"
   ]
  },
  {
   "cell_type": "code",
   "execution_count": null,
   "metadata": {
    "id": "P1abOb5bCypm",
    "outputId": "27f22538-c5f2-4e56-f4a3-9748b5a7dde9"
   },
   "outputs": [
    {
     "data": {
      "text/plain": [
       "['vmartinez@winstead.com']"
      ]
     },
     "execution_count": 113,
     "metadata": {},
     "output_type": "execute_result"
    }
   ],
   "source": [
    "line = \"From: vmartinez@winstead.com\"\n",
    "m = re.findall(\"From\\:\\s+(\\w+\\@\\w\\S+)\", line)\n",
    "m"
   ]
  },
  {
   "cell_type": "markdown",
   "metadata": {
    "id": "KYJSEJk-Cypm"
   },
   "source": [
    " If there are more than one set of parentheses, you will get a list of tuples.\n",
    " Here, we'll grab the username and email address separately"
   ]
  },
  {
   "cell_type": "code",
   "execution_count": null,
   "metadata": {
    "id": "bCPjd-YqCypm",
    "outputId": "70050270-2846-4fd5-fcf2-3e3400412171"
   },
   "outputs": [
    {
     "data": {
      "text/plain": [
       "[('vmartinez', 'winstead.com')]"
      ]
     },
     "execution_count": 114,
     "metadata": {},
     "output_type": "execute_result"
    }
   ],
   "source": [
    "line = \"From: vmartinez@winstead.com\"\n",
    "m = re.findall(\"From\\:\\s+(\\w+)\\@(\\w\\S+)\", line)\n",
    "m"
   ]
  },
  {
   "cell_type": "code",
   "execution_count": null,
   "metadata": {
    "id": "Aq5C7-_nCypm",
    "outputId": "cc871d7a-7026-4c41-8cfb-614b7749682a"
   },
   "outputs": [
    {
     "data": {
      "text/plain": [
       "[('V. Martinez', 'vmartinez', 'winstead.com')]"
      ]
     },
     "execution_count": 115,
     "metadata": {},
     "output_type": "execute_result"
    }
   ],
   "source": [
    "line = \"From: V. Martinez <vmartinez@winstead.com>\"\n",
    "m = re.findall(\"From\\:\\s+(\\S.*?)\\s+<(\\w+)\\@(\\w\\S+)>\", line)\n",
    "m"
   ]
  },
  {
   "cell_type": "markdown",
   "metadata": {
    "id": "clGcMHqWCypn"
   },
   "source": [
    "Using start and end of line\n",
    "\n",
    "Using an example from bioinformatics / computational biology\n",
    "This is a type of data entry for a gene sequence called FASTA.  The '>' line is the comment line and contains information like an id for the sequence and then, hopefully, some information like a description.  The actual gene sequence follows the comment line.\n",
    "\n",
    ">NM_001302688.2 Homo sapiens apolipoprotein E (APOE), transcript variant 1, mRNA\n",
    "CTACTCAGCCCCAGCGGAGGTGAAGGACGTCCTTCCCCAGGAGCCGGTGAGAAGCGCAGTCGGGGGCACG\n",
    "GGGATGAGCTCAGGGGCCTCTAGAAAGAGCTGGGACCCTGGGAACCCCTGGCCTCCAGACTGGCCAATCA\n",
    "CAGGCAGGAAGATGAAGGTTCTGTGGGCTGCGTTGCTGGTCACATTCCTGGCAGGATGCCAGGCCAAGGT\n",
    "GGAGCAAGCGGTGGAGACAGAGCCGGAGCCCGAGCTGCGCCAGCAGACCGAGTGGCAGAGCGGCCAGCGC\n",
    "... and continues on...."
   ]
  },
  {
   "cell_type": "code",
   "execution_count": null,
   "metadata": {
    "id": "9JzB1rS1Cypn",
    "outputId": "e02fa17d-6b60-4239-a572-0ecdd00c6895"
   },
   "outputs": [
    {
     "data": {
      "text/plain": [
       "[('NM_001302688.2',\n",
       "  'Homo sapiens apolipoprotein E (APOE), transcript variant 1, mRNA')]"
      ]
     },
     "execution_count": 116,
     "metadata": {},
     "output_type": "execute_result"
    }
   ],
   "source": [
    "line = \">NM_001302688.2 Homo sapiens apolipoprotein E (APOE), transcript variant 1, mRNA\"\n",
    "m = re.findall(\"^>(\\S+)\\s+(\\S.*)$\", line)\n",
    "m"
   ]
  },
  {
   "cell_type": "markdown",
   "metadata": {
    "id": "XJfwmETUCypn"
   },
   "source": [
    "Sometimes the name of the gene is in parentheses at the end of the description"
   ]
  },
  {
   "cell_type": "code",
   "execution_count": null,
   "metadata": {
    "id": "pQHvdnlpCypn",
    "outputId": "78385304-ddbb-47a9-ca0f-9657f2b67da1"
   },
   "outputs": [
    {
     "data": {
      "text/plain": [
       "[('NM_001302688.2',\n",
       "  'Homo sapiens apolipoprotein E, transcript variant 1, mRNA',\n",
       "  'APOE')]"
      ]
     },
     "execution_count": 117,
     "metadata": {},
     "output_type": "execute_result"
    }
   ],
   "source": [
    "line = \">NM_001302688.2 Homo sapiens apolipoprotein E, transcript variant 1, mRNA (APOE)\"\n",
    "m = re.findall(\"^>(\\S+)\\s+(\\S.*)\\s\\((\\w+)\\)$\", line)\n",
    "m"
   ]
  },
  {
   "cell_type": "markdown",
   "metadata": {
    "id": "4k1GE0U2Cypn"
   },
   "source": [
    "And sometimes the name comes before the organism"
   ]
  },
  {
   "cell_type": "code",
   "execution_count": null,
   "metadata": {
    "id": "kuhcQzZaCypn",
    "outputId": "fc6c06eb-3171-4574-b3cf-3e5ed35906a1"
   },
   "outputs": [
    {
     "data": {
      "text/plain": [
       "[('NM_001302688.2',\n",
       "  'Homo sapiens apolipoprotein E, transcript variant 1, mRNA',\n",
       "  'APOE',\n",
       "  'Homo sapiens')]"
      ]
     },
     "execution_count": 118,
     "metadata": {},
     "output_type": "execute_result"
    }
   ],
   "source": [
    "line = \">NM_001302688.2 Homo sapiens apolipoprotein E, transcript variant 1, mRNA (APOE) [Homo sapiens]\"\n",
    "m = re.findall(\"^>(\\S+)\\s+(\\S.*)\\s\\((\\w+)\\)\\s\\[(\\w.*?)\\]$\", line)\n",
    "m"
   ]
  },
  {
   "cell_type": "markdown",
   "metadata": {
    "id": "4vyawR0OCypn"
   },
   "source": [
    "If I want just the id and the version"
   ]
  },
  {
   "cell_type": "code",
   "execution_count": null,
   "metadata": {
    "id": "XUMkgZtvCypn",
    "outputId": "f4bd1af0-6e40-449f-f131-d3125f964537"
   },
   "outputs": [
    {
     "data": {
      "text/plain": [
       "[('NM_001302688', '2')]"
      ]
     },
     "execution_count": 119,
     "metadata": {},
     "output_type": "execute_result"
    }
   ],
   "source": [
    "line = \">NM_001302688.2 Homo sapiens apolipoprotein E, transcript variant 1, mRNA (APOE)\"\n",
    "m = re.findall(\"^>(\\S+?)\\.(\\d+)\\s+\", line)\n",
    "m"
   ]
  },
  {
   "cell_type": "markdown",
   "metadata": {
    "id": "4Of4__SwCypo"
   },
   "source": [
    "A note about setting up a regex pattern: look for what's the same between the input lines and what is different.  I will quite often put a couple of the input lines in my code so that I can stare at them whilst coding.  For example:\n",
    "\n",
    "gene_id ENSSSCG00005029396 transcript_id ENSSSCT00005050136  protein_id ENSSSCP00005030958\n",
    "gene_id ENSSSCG00005029396 transcript_id ENSSSCT00005050136  exon_id ENSSSCE00005185090\n",
    "gene_id ENSSSCG00005029396 transcript_id ENSSSCT00005050136  protein_id ENSSSCP00005030958\n",
    "gene_id ENSSSCG00005029396 transcript_id ENSSSCT00005050136  exon_id ENSSSCE00005185437\n",
    "gene_id ENSSSCG00005029396 transcript_id ENSSSCT00005050136  protein_id ENSSSCP00005030958\n",
    "gene_id ENSSSCG00005029396 transcript_id ENSSSCT00005050136  exon_id ENSSSCE00005185900\n",
    "\n",
    "If I'm wanting to get the transcript_id, I can see that it starts off with E followed by some text which is followed by some numbers. But the gene_id, protein_id, and exon_id all start also all start with E followed by some text which is followed by some numbers.\n",
    "\n",
    "Looking more carefully, I can see that the transcript_id has a T right before the numbers, whereas the gene_id has a G, the protein_id has a P, and the exon_id has an E.\n",
    "\n",
    "This tells me that a regex pattern of E\\w+T\\d+ could work.  Let's try it"
   ]
  },
  {
   "cell_type": "code",
   "execution_count": null,
   "metadata": {
    "id": "chZdkSi4Cypo",
    "outputId": "d426754c-3aed-4685-8b27-e1375d3f5e4d"
   },
   "outputs": [
    {
     "data": {
      "text/plain": [
       "['ENSSSCT00005050136',\n",
       " 'ENSSSCT00005050136',\n",
       " 'ENSSSCT00005050136',\n",
       " 'ENSSSCT00005050136',\n",
       " 'ENSSSCT00005050136',\n",
       " 'ENSSSCT00005050136']"
      ]
     },
     "execution_count": 120,
     "metadata": {},
     "output_type": "execute_result"
    }
   ],
   "source": [
    "mylist  = [\"gene_id ENSSSCG00005029396 transcript_id ENSSSCT00005050136  protein_id ENSSSCP00005030958\",\n",
    "           \"gene_id ENSSSCG00005029396 transcript_id ENSSSCT00005050136  exon_id ENSSSCE00005185090\",\n",
    "           \"gene_id ENSSSCG00005029396 transcript_id ENSSSCT00005050136  protein_id ENSSSCP00005030958\",\n",
    "           \"gene_id ENSSSCG00005029396 transcript_id ENSSSCT00005050136  exon_id ENSSSCE00005185437\",\n",
    "           \"gene_id ENSSSCG00005029396 transcript_id ENSSSCT00005050136  protein_id ENSSSCP00005030958\",\n",
    "           \"gene_id ENSSSCG00005029396 transcript_id ENSSSCT00005050136  exon_id ENSSSCE00005185900\"]\n",
    "outlist = []\n",
    "for this in mylist:\n",
    "    m = re.findall(\"E\\w+T\\d+\", this)\n",
    "    outlist += m\n",
    "outlist"
   ]
  },
  {
   "cell_type": "markdown",
   "metadata": {
    "id": "l_BMbQKXCypo"
   },
   "source": [
    "Perfect!"
   ]
  },
  {
   "cell_type": "code",
   "execution_count": null,
   "metadata": {},
   "outputs": [],
   "source": []
  }
 ],
 "metadata": {
  "colab": {
   "collapsed_sections": [],
   "provenance": []
  },
  "kernelspec": {
   "display_name": "Python 3 (ipykernel)",
   "language": "python",
   "name": "python3"
  },
  "language_info": {
   "codemirror_mode": {
    "name": "ipython",
    "version": 3
   },
   "file_extension": ".py",
   "mimetype": "text/x-python",
   "name": "python",
   "nbconvert_exporter": "python",
   "pygments_lexer": "ipython3",
   "version": "3.11.7"
  }
 },
 "nbformat": 4,
 "nbformat_minor": 4
}
